{
 "cells": [
  {
   "cell_type": "markdown",
   "id": "a41f2011-b934-41b8-bbd7-6434d4162834",
   "metadata": {},
   "source": [
    "# Introduction"
   ]
  },
  {
   "cell_type": "markdown",
   "id": "585ac2f3-e982-4231-9eb5-1b928a35a6ae",
   "metadata": {},
   "source": [
    "Importing all the packages that are required for the notebook to run."
   ]
  },
  {
   "cell_type": "code",
   "execution_count": null,
   "id": "24692a50-4f54-4a73-b1d1-554b7207c66f",
   "metadata": {},
   "outputs": [],
   "source": [
    "import numpy as np\n",
    "import pandas as pd\n",
    "\n",
    "from sklearn.preprocessing import StandardScaler, LabelEncoder\n",
    "\n",
    "from sklearn.model_selection import cross_val_score\n",
    "from sklearn.preprocessing import StandardScaler\n",
    "from sklearn.pipeline import Pipeline\n",
    "from sklearn.svm import SVC\n",
    "from sklearn.neighbors import KNeighborsClassifier\n",
    "from sklearn.ensemble import RandomForestClassifier\n",
    "from sklearn.naive_bayes import GaussianNB\n",
    "from sklearn.linear_model import LogisticRegression\n",
    "\n",
    "import seaborn as sns\n",
    "sns.set_theme(style=\"whitegrid\")\n",
    "\n",
    "import matplotlib.pyplot as plt"
   ]
  },
  {
   "cell_type": "markdown",
   "id": "18b0ae23-e3fb-4f3a-b956-564d408390ae",
   "metadata": {},
   "source": [
    "# Data Import"
   ]
  },
  {
   "cell_type": "code",
   "execution_count": null,
   "id": "aa0c7f17-c0d2-4a99-a931-e74c93921552",
   "metadata": {},
   "outputs": [],
   "source": [
    "root_dir = './' # ENTER YOUR WORKING DRIECTORY HERE #\n",
    "epl_training_path = root_dir + 'epl-training.csv'\n",
    "epl_teams_path = root_dir + 'epl-teams.csv'\n",
    "\n",
    "# Load and describe the csv file\n",
    "df = pd.read_csv(epl_training_path)\n",
    "df_teams = pd.read_csv(epl_teams_path)\n",
    "df.describe()\n",
    "df_teams.tail()"
   ]
  },
  {
   "cell_type": "code",
   "execution_count": null,
   "id": "513f98a5-7a96-4124-9172-648cc45adf0f",
   "metadata": {},
   "outputs": [],
   "source": [
    "df.tail()"
   ]
  },
  {
   "cell_type": "markdown",
   "id": "54292956-da2a-4970-bc5e-5f350c01504e",
   "metadata": {},
   "source": [
    "# Data Transformation and Exploration"
   ]
  },
  {
   "cell_type": "markdown",
   "id": "7ca8e82e-fb0f-4d24-90f7-c5ae1eeb6fe2",
   "metadata": {},
   "source": [
    "Replacing all the Team names with labels"
   ]
  },
  {
   "cell_type": "code",
   "execution_count": null,
   "id": "c3b95516-4aed-4834-aa05-88f0b1737ca7",
   "metadata": {},
   "outputs": [],
   "source": [
    "# Instantiate LabelEncoder\n",
    "team_encoder = LabelEncoder()\n",
    "\n",
    "# Remove any row where the HomeTeam or AwayTeam is not a valid name\n",
    "df = df.dropna()\n",
    "df['Date'] = pd.to_datetime(df['Date'])\n",
    "df = df[df['Date'].dt.year >= 2013]\n",
    "\n",
    "# Check that all invalid fields have been removed\n",
    "assert(df['HomeTeam'].apply(lambda x: not isinstance(x, str)).sum() == 0)\n",
    "assert(df['AwayTeam'].apply(lambda x: not isinstance(x, str)).sum() == 0)\n",
    "\n",
    "# Fit and transform the 'Names' column with LabelEncoder\n",
    "team_encoder = team_encoder.fit(df['HomeTeam'])\n",
    "df['HomeTeamLabel'] = team_encoder.transform(df['HomeTeam'])\n",
    "df['AwayTeamLabel'] = team_encoder.transform(df['AwayTeam'])\n",
    "df_teams['TeamLabel'] = team_encoder.transform(df_teams['Team'])\n",
    "\n",
    "print(f\"Team Names: {team_encoder.classes_}\")\n"
   ]
  },
  {
   "cell_type": "code",
   "execution_count": null,
   "id": "1bc7cd18-c970-4f45-99aa-b7fde5b6b292",
   "metadata": {},
   "outputs": [],
   "source": [
    "result_encoder = LabelEncoder()\n",
    "result_encoder = result_encoder.fit(df['FTR'])\n",
    "df['FTRLabel'] = result_encoder.transform(df['FTR'])\n",
    "df['HTRLabel'] = result_encoder.transform(df['HTR'])\n",
    "\n",
    "print(f\"Result names: {result_encoder.classes_}\")"
   ]
  },
  {
   "cell_type": "code",
   "execution_count": null,
   "id": "093557c2-dc49-49c0-9496-45c9be4aa021",
   "metadata": {},
   "outputs": [],
   "source": [
    "df.describe()"
   ]
  },
  {
   "cell_type": "markdown",
   "id": "b28535ff-b6f3-4cde-92c5-a5953dc8ceb2",
   "metadata": {},
   "source": [
    "## Base rates of home, and away"
   ]
  },
  {
   "cell_type": "markdown",
   "id": "211ccd98-28af-411f-88e1-61a835108c6b",
   "metadata": {},
   "source": [
    "Implies that there is a home advantage! It's worth considering away and home independently."
   ]
  },
  {
   "cell_type": "code",
   "execution_count": null,
   "id": "aaaf593e-7679-4fae-9bb6-225ece5be449",
   "metadata": {},
   "outputs": [],
   "source": [
    "ftr_counts = df['FTR'].value_counts(normalize=True) # Normalize to convert to probabilities\n",
    "\n",
    "plt.figure(figsize=(8, 6))\n",
    "ftr_counts.plot(kind='bar', color='skyblue', edgecolor='black')\n",
    "plt.xlabel('Game Outcome')\n",
    "plt.ylabel('Probability')\n",
    "plt.xticks(range(len(ftr_counts)), ['Home Win', 'Away Win', 'Draw'], rotation=0)\n",
    "plt.grid(axis='y')\n",
    "plt.tight_layout()\n",
    "plt.show()"
   ]
  },
  {
   "cell_type": "code",
   "execution_count": null,
   "id": "aeb28e3e-39ff-4283-9c89-ee0e0d0b41a1",
   "metadata": {},
   "outputs": [],
   "source": [
    "home_columns = ['FTHG', 'HTHG', 'HS', 'HST', 'HF', 'HC', 'HY', 'HR']\n",
    "away_columns = ['FTAG', 'HTAG', 'AS', 'AST', 'AF', 'AC', 'AY', 'AR']\n",
    "team_columns_single = ['OA', 'AT', 'MD', 'DF', 'CW']\n",
    "team_columns = ['HOA', 'HAT', 'HMD', 'HDF', 'HCW', 'AOA', 'AAT', 'AMD', 'ADF', 'ACW']\n",
    "\n",
    "td = pd.Timedelta(days=365) # Adjust for exponential weighting\n",
    "\n",
    "# Precomputing features\n",
    "precomputed_features = {}\n",
    "\n",
    "for team in team_encoder.classes_:\n",
    "    #  Calculating the Home features\n",
    "    df_home = df[df['HomeTeam'] == team]\n",
    "    df_home = df_home[['Date', *home_columns]]\n",
    "    df_home[home_columns] = df_home[home_columns].ewm(times=df_home['Date'], halflife=td).mean()\n",
    "    precomputed_features[team] = {}\n",
    "    precomputed_features[team]['Home'] = df_home\n",
    "    \n",
    "    # Calculating the Away features\n",
    "    df_away = df[df['AwayTeam'] == team]\n",
    "    df_away = df_away[['Date', *away_columns]]\n",
    "    df_away[away_columns] = df_away[away_columns].ewm(times=df_away['Date'], halflife=td).mean()\n",
    "    precomputed_features[team]['Away'] = df_away\n"
   ]
  },
  {
   "cell_type": "code",
   "execution_count": null,
   "id": "27cc7a6c-46fb-48c9-be0c-ea251b1da8ad",
   "metadata": {
    "editable": true,
    "slideshow": {
     "slide_type": ""
    },
    "tags": []
   },
   "outputs": [],
   "source": [
    "# List to store league date ranges\n",
    "league_dates = []\n",
    "\n",
    "# Loop through the years from 2013 to 2023\n",
    "for year in range(2014, 2023 + 1):\n",
    "    # Define the start and end dates for each league year (assuming August 1 to June 1)\n",
    "    start_date = f\"{year}-08-01\"\n",
    "    end_date = f\"{year + 1}-06-01\"\n",
    "    \n",
    "    # Append the start and end dates as a tuple to the league_dates list\n",
    "    league_dates.append((start_date, end_date, year))\n",
    "\n",
    "\n",
    "feature_columns = ['Date', 'League', 'HomeTeam', 'AwayTeam', *home_columns, *away_columns, *team_columns, 'FTRLabel']\n",
    "df_features = pd.DataFrame(columns=feature_columns)\n",
    "feature_list = []\n",
    "\n",
    "for start, end, year in league_dates:\n",
    "    print(f\"{start} : {end}\")\n",
    "    league = df[(df['Date'] >= start) & (df['Date'] <= end)]\n",
    "    \n",
    "    for index in range(len(league)):\n",
    "        row = league.iloc[index]\n",
    "        home =  precomputed_features[row['HomeTeam']]['Home']\n",
    "        home = home[home['Date'] < row['Date']]\n",
    "        if home.empty:\n",
    "            continue\n",
    "        else:\n",
    "            home = home.iloc[-1]\n",
    "\n",
    "        # Check if ratings exist for the year\n",
    "        home_team = df_teams[df_teams['Team'] == row['HomeTeam']]\n",
    "        home_team = home_team[home_team['Year'] == year]\n",
    "\n",
    "        # Else use the latest one\n",
    "        if home_team.empty:\n",
    "            home_team = df_teams[df_teams['Team'] == row['HomeTeam']]\n",
    "            home_team = home_team[home_team['Year'] < year]\n",
    "            # Else use sensible default team stats\n",
    "            if home_team.empty:\n",
    "                home_team = pd.DataFrame([[60, 60, 60, 60, 1]], columns=team_columns_single) # Defaults\n",
    "                home_team = home_team.iloc[0]\n",
    "            else:\n",
    "                home_team = home_team.iloc[0]\n",
    "        else:\n",
    "            home_team = home_team.iloc[0]\n",
    "\n",
    "        away =  precomputed_features[row['AwayTeam']]['Away']\n",
    "        away = away[away['Date'] < row['Date']]\n",
    "        if away.empty:\n",
    "            continue\n",
    "        else:\n",
    "            away = away.iloc[-1]\n",
    "\n",
    "        # Check if ratings exist for the year\n",
    "        away_team = df_teams[df_teams['Team'] == row['AwayTeam']]\n",
    "        away_team = away_team[away_team['Year'] == year]\n",
    "\n",
    "        # Else use the latest one\n",
    "        if away_team.empty:\n",
    "            away_team = df_teams[df_teams['Team'] == row['AwayTeam']]\n",
    "            away_team = away_team[away_team['Year'] < year]\n",
    "            if away_team.empty:\n",
    "                # Else use sensible default team stats\n",
    "                away_team = pd.DataFrame([[60, 60, 60, 60, 1]], columns=team_columns_single) # Defaults\n",
    "                away_team = away_team.iloc[0]\n",
    "            else:\n",
    "                away_team = away_team.iloc[0]\n",
    "        else:\n",
    "            away_team = away_team.iloc[0]\n",
    "\n",
    "        feature_list.append([row['Date'], year, row['HomeTeam'], row['AwayTeam'],\n",
    "                            *home[home_columns], *away[away_columns],\n",
    "                            *home_team[team_columns_single], *away_team[team_columns_single], row['FTRLabel']])\n",
    "\n",
    "df_features = pd.DataFrame(feature_list, columns=feature_columns)\n",
    "df_features.tail()"
   ]
  },
  {
   "cell_type": "code",
   "execution_count": null,
   "id": "6ffc0f51-adce-436f-95a9-f8f6f80c5508",
   "metadata": {},
   "outputs": [],
   "source": [
    "df_features_train = df_features[df_features['League'] <= 2018] # Train on everything before 2018\n",
    "df_features_test = df_features[df_features['League'] > 2018] # Test on 2019 and onwards"
   ]
  },
  {
   "cell_type": "markdown",
   "id": "b28ec59a-b890-403b-817f-4ebfb96cb08f",
   "metadata": {},
   "source": [
    "## Plot the correlation matrix"
   ]
  },
  {
   "cell_type": "code",
   "execution_count": null,
   "id": "cdd3ac19-fd6e-483a-8350-be9ebfb85f57",
   "metadata": {},
   "outputs": [],
   "source": [
    "corr_mat = df_features_train[[*home_columns, *away_columns, *team_columns]].corr().stack().reset_index(name=\"correlation\")\n",
    "\n",
    "# Draw each cell as a scatter point with varying size and color\n",
    "g = sns.relplot(\n",
    "    data=corr_mat,\n",
    "    x=\"level_0\", y=\"level_1\", hue=\"correlation\", size=\"correlation\",\n",
    "    palette=\"vlag\", hue_norm=(-1, 1), edgecolor=\".7\",\n",
    "    height=10, sizes=(50, 250), size_norm=(-.2, .8),\n",
    ")\n",
    "\n",
    "# Tweak the figure to finalize\n",
    "g.set(xlabel=\"\", ylabel=\"\", aspect=\"equal\")\n",
    "g.despine(left=True, bottom=True)\n",
    "g.ax.margins(.02)\n",
    "for label in g.ax.get_xticklabels():\n",
    "    label.set_rotation(90)"
   ]
  },
  {
   "cell_type": "markdown",
   "id": "c27bfc62-1071-42f5-b9dc-5cfd3223a70d",
   "metadata": {
    "editable": true,
    "slideshow": {
     "slide_type": ""
    },
    "tags": []
   },
   "source": [
    "# Methodology Overview"
   ]
  },
  {
   "cell_type": "markdown",
   "id": "65a3bcb0-1cc6-4b7b-8b89-6081b7dfda05",
   "metadata": {},
   "source": [
    "## Comparing classifier models"
   ]
  },
  {
   "cell_type": "code",
   "execution_count": null,
   "id": "94d7c077-1f1f-405a-907e-6304adf45b35",
   "metadata": {},
   "outputs": [],
   "source": [
    "X_train = df_features_train[[*home_columns, *away_columns, *team_columns]].values\n",
    "y_train = df_features_train[['FTRLabel']].values.ravel()"
   ]
  },
  {
   "cell_type": "code",
   "execution_count": null,
   "id": "e9c4b7ba-bff1-4809-9ab6-199579488a56",
   "metadata": {},
   "outputs": [],
   "source": [
    "def train_and_compare_classifiers(X, y):\n",
    "    accuracies = {}\n",
    "    classifiers = {\n",
    "        'SVM': SVC(),\n",
    "        'KNN': KNeighborsClassifier(),\n",
    "        'Random Forest': RandomForestClassifier(),\n",
    "        'Naive Bayes': GaussianNB(),\n",
    "        'Logistic Regression': LogisticRegression()\n",
    "    }\n",
    "    \n",
    "    for clf_name, clf in classifiers.items():\n",
    "        # Create a pipeline with StandardScaler and the classifier to normalize values\n",
    "        pipeline = Pipeline([\n",
    "            ('scaler', StandardScaler()),\n",
    "            ('classifier', clf)\n",
    "        ])\n",
    "        scores = cross_val_score(pipeline, X, y, cv=5)\n",
    "        accuracies[clf_name] = scores.mean()\n",
    "\n",
    "    # Plotting accuracies\n",
    "    plt.figure(figsize=(10, 6))\n",
    "    bars = plt.bar(accuracies.keys(), accuracies.values(), color='skyblue')\n",
    "    plt.ylabel('Accuracy')\n",
    "    plt.title('Comparison of Classifier Accuracies')\n",
    "    plt.ylim([0, 1])\n",
    "    plt.tight_layout()\n",
    "\n",
    "    # Add labels on top of each bar\n",
    "    for bar in bars:\n",
    "        height = bar.get_height()\n",
    "        plt.text(bar.get_x() + bar.get_width()/2, height, f'{height:.3f}', ha='center', va='bottom')\n",
    "\n",
    "    plt.show()\n",
    "\n",
    "train_and_compare_classifiers(X_train, y_train)"
   ]
  },
  {
   "cell_type": "markdown",
   "id": "22b8feab-f4d1-447b-83d4-2bc199cc0a36",
   "metadata": {},
   "source": [
    "# Model Training and Validation"
   ]
  },
  {
   "cell_type": "code",
   "execution_count": null,
   "id": "54e2e5f1-fe79-406b-865f-0b5bf9b31087",
   "metadata": {},
   "outputs": [],
   "source": [
    "pipeline = Pipeline([\n",
    "    ('scaler', StandardScaler()),\n",
    "    ('classifier', SVC())\n",
    "])\n",
    "\n",
    "scores = cross_val_score(pipeline, X_train, y_train, cv=5)\n",
    "print(f\"Cross validation accuracy of the pipeline is {scores.mean()}\")\n",
    "\n",
    "X_test = df_features_test[[*home_columns, *away_columns, *team_columns]].values\n",
    "y_test = df_features_test[['FTRLabel']].values.ravel()\n",
    "\n",
    "test_score = pipeline.fit(X_train, y_train).score(X_test, y_test)\n",
    "print(f\"Test accuracy of the pipeline is {test_score}\")"
   ]
  },
  {
   "cell_type": "markdown",
   "id": "cfc5cbcf-09a0-4ed5-897b-068992cfc48c",
   "metadata": {},
   "source": [
    "# Results"
   ]
  },
  {
   "cell_type": "code",
   "execution_count": null,
   "id": "c67be255-5754-4007-8242-d87a82d5b657",
   "metadata": {},
   "outputs": [],
   "source": []
  },
  {
   "cell_type": "markdown",
   "id": "d3c34e67-39fc-4c39-b46b-72cfd6d2f3f3",
   "metadata": {},
   "source": [
    "# Final Predictions on Test Set"
   ]
  },
  {
   "cell_type": "code",
   "execution_count": null,
   "id": "108f83ed-243f-4343-9062-6df95985f94f",
   "metadata": {},
   "outputs": [],
   "source": []
  },
  {
   "cell_type": "markdown",
   "id": "6dc4af41-5df2-4410-b311-098fe2396e95",
   "metadata": {},
   "source": [
    "# References"
   ]
  },
  {
   "cell_type": "markdown",
   "id": "3b9ccab6-3799-420f-954d-d637eeaec43a",
   "metadata": {},
   "source": [
    "- [Forecasting football](https://mercurius.io/en/learn/predicting-forecasting-football)\n",
    "- [Prediction of football match results with Machine Learning](https://www.sciencedirect.com/science/article/pii/S1877050922007955)\n",
    "    - You have to account for home advantage in the base rates \n",
    "    - https://sofifa.com/ for scores on player ability and the scores on team ability\n",
    "- [Predicting Football Matches Results using Bayesian Networks for English Premier League (EPL)](https://iopscience.iop.org/article/10.1088/1757-899X/226/1/012099)\n",
    "- [Predicting Football Results Using Machine Learning Techniques](https://www.imperial.ac.uk/media/imperial-college/faculty-of-engineering/computing/public/1718-ug-projects/Corentin-Herbinet-Using-Machine-Learning-techniques-to-predict-the-outcome-of-profressional-football-matches.pdf)\n",
    "- [Forecasting football match results using a player rating based model](https://www.sciencedirect.com/science/article/pii/S016920702300033X)\n",
    "    - Use historical betting odds as the predictive label\n",
    "    - \n",
    "- [Forecasting football matches by predicting match statistics](https://content.iospress.com/articles/journal-of-sports-analytics/jsa200462)\n",
    "- Datasets\n",
    "    - https://www.kaggle.com/datasets/hugomathien/soccer\n",
    "\n",
    "- https://www.football-data.co.uk/ratings.pdf"
   ]
  },
  {
   "cell_type": "code",
   "execution_count": null,
   "id": "6204f8b7-bbaa-43d0-add4-fb9f660a5cbe",
   "metadata": {},
   "outputs": [],
   "source": []
  }
 ],
 "metadata": {
  "kernelspec": {
   "display_name": "Python 3 (ipykernel)",
   "language": "python",
   "name": "python3"
  },
  "language_info": {
   "codemirror_mode": {
    "name": "ipython",
    "version": 3
   },
   "file_extension": ".py",
   "mimetype": "text/x-python",
   "name": "python",
   "nbconvert_exporter": "python",
   "pygments_lexer": "ipython3",
   "version": "3.8.8"
  }
 },
 "nbformat": 4,
 "nbformat_minor": 5
}
